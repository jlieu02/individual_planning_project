{
 "cells": [
  {
   "cell_type": "markdown",
   "id": "c074bf5e-29fe-40f6-b9b4-86af4e31bcdb",
   "metadata": {
    "editable": true,
    "slideshow": {
     "slide_type": ""
    },
    "tags": []
   },
   "source": [
    "# (1) Data Description \n",
    "\n",
    "This data set contains data about plaicraft, containing data about what information the player used to sign up and each individual session of plaicraft that occured.\n",
    "\n",
    "### Players CSV\n",
    "This file contains data about the players/users sign-up information from plaicraft. There are 197 observations and 9 variables in this data set.\n",
    "\n",
    "#### Variables\n",
    "| Experience (character) | Subscribe (logical) | hashedEmail (character) | played_hours (double precision) | name (character) | gender (character) | age (double precision) | individualid (logical) | organizationName (logical) |\n",
    "| ---------- | --------- | ----------- | ------------ | ---- | ------ | --- | ------------ | ---------------- |\n",
    "| How familiar the player is with minecraft | Subscribe | Encrypted email address of the player | How many hours the player has spent playing plaicraft | Name of the player | Gender of the player | Age of the player | ID of the player | Organization that the player belongs to|\n",
    "\n",
    "Some issues with the data are that there are no values for individualid and organizationName and therefore only consists of NA values.\n",
    "\n",
    "### Sessions CSV\n",
    "\n",
    "This file contains data about each individual session in plaicraft. There are 1536 observations and 5 variables in this data set.\n",
    "\n",
    "#### Variables\n",
    "| hashedEmail (character) | start_time (character) | end_time (character) | original_start_time (double precision) | original_end_time (double precision) |\n",
    "| ----------- | ---------- | -------- | ------------------- | ----------------- |\n",
    "| Encrypted email adress of the player | Time when player started a session | Time when player ended a session | Original start time | Original end time|\n",
    "\n",
    "Some issues with the data are that the values in start_time and end_time contains two values per cell.\n"
   ]
  },
  {
   "cell_type": "markdown",
   "id": "6ec2f427-d433-4b33-b5b2-5639936114b2",
   "metadata": {},
   "source": [
    "# (2) Question"
   ]
  },
  {
   "cell_type": "markdown",
   "id": "8c745d94-f5ca-4e62-823b-25dd25337c1b",
   "metadata": {
    "editable": true,
    "slideshow": {
     "slide_type": ""
    },
    "tags": []
   },
   "source": [
    "# (3) Exploratory Data Analysis and Visualizatoin"
   ]
  },
  {
   "cell_type": "code",
   "execution_count": 1,
   "id": "ae58425d-e32e-41d1-bd41-b2f5cb0a3763",
   "metadata": {
    "editable": true,
    "slideshow": {
     "slide_type": ""
    },
    "tags": []
   },
   "outputs": [
    {
     "name": "stderr",
     "output_type": "stream",
     "text": [
      "── \u001b[1mAttaching core tidyverse packages\u001b[22m ──────────────────────── tidyverse 2.0.0 ──\n",
      "\u001b[32m✔\u001b[39m \u001b[34mdplyr    \u001b[39m 1.1.4     \u001b[32m✔\u001b[39m \u001b[34mreadr    \u001b[39m 2.1.5\n",
      "\u001b[32m✔\u001b[39m \u001b[34mforcats  \u001b[39m 1.0.0     \u001b[32m✔\u001b[39m \u001b[34mstringr  \u001b[39m 1.5.1\n",
      "\u001b[32m✔\u001b[39m \u001b[34mggplot2  \u001b[39m 3.5.1     \u001b[32m✔\u001b[39m \u001b[34mtibble   \u001b[39m 3.2.1\n",
      "\u001b[32m✔\u001b[39m \u001b[34mlubridate\u001b[39m 1.9.3     \u001b[32m✔\u001b[39m \u001b[34mtidyr    \u001b[39m 1.3.1\n",
      "\u001b[32m✔\u001b[39m \u001b[34mpurrr    \u001b[39m 1.0.2     \n",
      "── \u001b[1mConflicts\u001b[22m ────────────────────────────────────────── tidyverse_conflicts() ──\n",
      "\u001b[31m✖\u001b[39m \u001b[34mdplyr\u001b[39m::\u001b[32mfilter()\u001b[39m masks \u001b[34mstats\u001b[39m::filter()\n",
      "\u001b[31m✖\u001b[39m \u001b[34mdplyr\u001b[39m::\u001b[32mlag()\u001b[39m    masks \u001b[34mstats\u001b[39m::lag()\n",
      "\u001b[36mℹ\u001b[39m Use the conflicted package (\u001b[3m\u001b[34m<http://conflicted.r-lib.org/>\u001b[39m\u001b[23m) to force all conflicts to become errors\n"
     ]
    }
   ],
   "source": [
    "library(tidyverse)"
   ]
  },
  {
   "cell_type": "code",
   "execution_count": null,
   "id": "4b71dd4c-82aa-4b55-88fd-6661b6df8c6f",
   "metadata": {
    "editable": true,
    "slideshow": {
     "slide_type": ""
    },
    "tags": []
   },
   "outputs": [],
   "source": [
    "players <- read_csv(\"data/players.csv\")\n",
    "sessions <- read_csv(\"data/sessions.csv\")\n",
    "\n",
    "experience <- players |>\n",
    "            ggplot(aes(x = experience, y = played_hours)) +\n",
    "            geom_bar(stat = \"identity\") \n"
   ]
  },
  {
   "cell_type": "code",
   "execution_count": null,
   "id": "d72a6ca6-fbec-44a6-b2f5-bf60d422dc2d",
   "metadata": {},
   "outputs": [],
   "source": []
  },
  {
   "cell_type": "code",
   "execution_count": null,
   "id": "16483c55-6bfc-45a6-a418-366e38fb614c",
   "metadata": {},
   "outputs": [],
   "source": []
  }
 ],
 "metadata": {
  "kernelspec": {
   "display_name": "R",
   "language": "R",
   "name": "ir"
  },
  "language_info": {
   "codemirror_mode": "r",
   "file_extension": ".r",
   "mimetype": "text/x-r-source",
   "name": "R",
   "pygments_lexer": "r",
   "version": "4.3.3"
  }
 },
 "nbformat": 4,
 "nbformat_minor": 5
}
