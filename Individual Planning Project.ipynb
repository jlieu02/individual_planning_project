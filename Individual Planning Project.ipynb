{
 "cells": [
  {
   "cell_type": "markdown",
   "id": "c074bf5e-29fe-40f6-b9b4-86af4e31bcdb",
   "metadata": {
    "editable": true,
    "slideshow": {
     "slide_type": ""
    },
    "tags": []
   },
   "source": [
    "# (1) Data Description \n",
    "\n",
    "This data set contains data about plaicraft, containing data about what information the player used to sign up and each individual session of plaicraft that occured.\n",
    "\n",
    "### Players CSV\n",
    "This file contains data about the players/users sign-up information from plaicraft. There are 197 observations and 9 variables in this data set.\n",
    "\n",
    "#### Variables\n",
    "| Experience (character) | Subscribe (logical) | hashedEmail (character) | played_hours (double precision) | name (character) | gender (character) | age (double precision) | individualid (logical) | organizationName (logical) |\n",
    "| ---------- | --------- | ----------- | ------------ | ---- | ------ | --- | ------------ | ---------------- |\n",
    "| How familiar the player is with minecraft | Subscribe | Encrypted email address of the player | How many hours the player has spent playing plaicraft | Name of the player | Gender of the player | Age of the player | ID of the player | Organization that the player belongs to|\n",
    "\n",
    "Some issues with the data are that there are no values for individualid and organizationName and therefore only consists of NA values.\n",
    "\n",
    "### Sessions CSV\n",
    "\n",
    "This file contains data about each individual session in plaicraft. There are 1536 observations and 5 variables in this data set.\n",
    "\n",
    "#### Variables\n",
    "| hashedEmail (character) | start_time (character) | end_time (character) | original_start_time (double precision) | original_end_time (double precision) |\n",
    "| ----------- | ---------- | -------- | ------------------- | ----------------- |\n",
    "| Encrypted email adress of the player | Time when player started a session | Time when player ended a session | Original start time | Original end time|\n",
    "\n",
    "Some issues with the data are that the values in start_time and end_time contains two values per cell.\n"
   ]
  },
  {
   "cell_type": "markdown",
   "id": "6ec2f427-d433-4b33-b5b2-5639936114b2",
   "metadata": {},
   "source": [
    "# (2) Question"
   ]
  },
  {
   "cell_type": "markdown",
   "id": "8c745d94-f5ca-4e62-823b-25dd25337c1b",
   "metadata": {
    "editable": true,
    "slideshow": {
     "slide_type": ""
    },
    "tags": []
   },
   "source": [
    "# (3) Exploratory Data Analysis and Visualizatoin"
   ]
  },
  {
   "cell_type": "code",
   "execution_count": 16,
   "id": "ae58425d-e32e-41d1-bd41-b2f5cb0a3763",
   "metadata": {
    "editable": true,
    "slideshow": {
     "slide_type": ""
    },
    "tags": []
   },
   "outputs": [],
   "source": [
    "library(tidyverse)\n",
    "library(httr)"
   ]
  },
  {
   "cell_type": "code",
   "execution_count": 18,
   "id": "4b71dd4c-82aa-4b55-88fd-6661b6df8c6f",
   "metadata": {
    "editable": true,
    "slideshow": {
     "slide_type": ""
    },
    "tags": []
   },
   "outputs": [
    {
     "ename": "ERROR",
     "evalue": "Error in open.connection(structure(5L, class = c(\"curl\", \"connection\"), conn_id = <pointer: 0x202>), : HTTP error 404.\n",
     "output_type": "error",
     "traceback": [
      "Error in open.connection(structure(5L, class = c(\"curl\", \"connection\"), conn_id = <pointer: 0x202>), : HTTP error 404.\nTraceback:\n",
      "1. read_csv(\"http://raw.githubusercontent.com/jlieu02/individual_planning_project/refs/heads/main/players.csv?token=GHSAT0AAAAAACZYWUOT264P6L6WCAILEQCEZZC6OYA\")",
      "2. vroom::vroom(file, delim = \",\", col_names = col_names, col_types = col_types, \n .     col_select = {\n .         {\n .             col_select\n .         }\n .     }, id = id, .name_repair = name_repair, skip = skip, n_max = n_max, \n .     na = na, quote = quote, comment = comment, skip_empty_rows = skip_empty_rows, \n .     trim_ws = trim_ws, escape_double = TRUE, escape_backslash = FALSE, \n .     locale = locale, guess_max = guess_max, show_col_types = show_col_types, \n .     progress = progress, altrep = lazy, num_threads = num_threads)",
      "3. vroom_(file, delim = delim %||% col_types$delim, col_names = col_names, \n .     col_types = col_types, id = id, skip = skip, col_select = col_select, \n .     name_repair = .name_repair, na = na, quote = quote, trim_ws = trim_ws, \n .     escape_double = escape_double, escape_backslash = escape_backslash, \n .     comment = comment, skip_empty_rows = skip_empty_rows, locale = locale, \n .     guess_max = guess_max, n_max = n_max, altrep = vroom_altrep(altrep), \n .     num_threads = num_threads, progress = progress)",
      "4. (function (con, ...) \n . UseMethod(\"open\"))(structure(5L, class = c(\"curl\", \"connection\"\n . ), conn_id = <pointer: 0x202>), \"rb\")",
      "5. open.connection(structure(5L, class = c(\"curl\", \"connection\"), conn_id = <pointer: 0x202>), \n .     \"rb\")"
     ]
    }
   ],
   "source": [
    "players <- read_csv(\"https://raw.githubusercontent.com/jlieu02/individual_planning_project/refs/heads/main/players.csv?token=GHSAT0AAAAAACZYWUOT264P6L6WCAILEQCEZZC6OYA\")\n",
    "players\n",
    "sessions <- read_csv(\"https://raw.githubusercontent.com/jlieu02/individual_planning_project/refs/heads/main/sessions.csv?token=GHSAT0AAAAAACZYWUOTUTMT4ZC2XOITWPYYZZC6PCQ\")\n",
    "sessions\n",
    "\n",
    "#experience <- players |>\n",
    "#            ggplot(aes(x = experience, y = played_hours)) +\n",
    "#            geom_bar(stat = \"identity\") \n"
   ]
  },
  {
   "cell_type": "code",
   "execution_count": null,
   "id": "d72a6ca6-fbec-44a6-b2f5-bf60d422dc2d",
   "metadata": {},
   "outputs": [],
   "source": []
  },
  {
   "cell_type": "code",
   "execution_count": null,
   "id": "16483c55-6bfc-45a6-a418-366e38fb614c",
   "metadata": {},
   "outputs": [],
   "source": []
  }
 ],
 "metadata": {
  "kernelspec": {
   "display_name": "R",
   "language": "R",
   "name": "ir"
  },
  "language_info": {
   "codemirror_mode": "r",
   "file_extension": ".r",
   "mimetype": "text/x-r-source",
   "name": "R",
   "pygments_lexer": "r",
   "version": "4.3.3"
  }
 },
 "nbformat": 4,
 "nbformat_minor": 5
}
